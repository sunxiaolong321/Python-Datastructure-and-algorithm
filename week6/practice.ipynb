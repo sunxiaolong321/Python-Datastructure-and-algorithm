{
 "cells": [
  {
   "cell_type": "markdown",
   "metadata": {},
   "source": [
    "# 查找和排序算法"
   ]
  },
  {
   "cell_type": "code",
   "execution_count": 1,
   "metadata": {},
   "outputs": [],
   "source": [
    "import matplotlib.pyplot as plt\n",
    "import random\n",
    "import time"
   ]
  },
  {
   "cell_type": "code",
   "execution_count": 3,
   "metadata": {},
   "outputs": [],
   "source": [
    "%matplotlib inline\n",
    "plt.rcParams['font.family'] = ['sans-serif']\n",
    "plt.rcParams['font.sans-serif'] = ['SimHei']"
   ]
  },
  {
   "cell_type": "markdown",
   "metadata": {},
   "source": [
    "## 顺序查找"
   ]
  },
  {
   "cell_type": "markdown",
   "metadata": {},
   "source": [
    "### 无序表查找代码"
   ]
  },
  {
   "cell_type": "code",
   "execution_count": 4,
   "metadata": {},
   "outputs": [
    {
     "name": "stdout",
     "output_type": "stream",
     "text": [
      "Using matplotlib backend: Qt5Agg\n"
     ]
    }
   ],
   "source": [
    "%matplotlib\n",
    "def sequentialSearch(alist, item):\n",
    "    plt.figure()\n",
    "    pos = 0 # 当前位置\n",
    "    found = False   # 是否查找到\n",
    "    plt.ion()\n",
    "    while pos < len(alist) and not found:\n",
    "        plt.cla()\n",
    "        bar = plt.bar(x=[i for i in range(len(alist))],height=alist)\n",
    "        bar[pos].set_color(\"red\")\n",
    "        if alist[pos] == item:\n",
    "            bar[pos].set_color(\"green\")\n",
    "            found = True    # 查找到当前位置\n",
    "        else:\n",
    "            pos += 1\n",
    "        plt.pause(1)\n",
    "    plt.ioff()\n",
    "    plt.show()\n",
    "    return found"
   ]
  },
  {
   "cell_type": "code",
   "execution_count": 6,
   "metadata": {},
   "outputs": [
    {
     "name": "stdout",
     "output_type": "stream",
     "text": [
      "True\n"
     ]
    }
   ],
   "source": [
    "\n",
    "print(sequentialSearch(testlist,3))\n",
    "# print(sequentialSearch(testlist,8))"
   ]
  },
  {
   "cell_type": "markdown",
   "metadata": {},
   "source": [
    "### 有序表查找代码"
   ]
  },
  {
   "cell_type": "code",
   "execution_count": 20,
   "metadata": {},
   "outputs": [
    {
     "name": "stdout",
     "output_type": "stream",
     "text": [
      "Using matplotlib backend: Qt5Agg\n"
     ]
    }
   ],
   "source": [
    "%matplotlib\n",
    "def sequentialSearch(alist, item):\n",
    "    pos = 0 # 当前位置\n",
    "    found = False   # 是否查找到\n",
    "    stop = False\n",
    "    plt.figure()\n",
    "    plt.ion()\n",
    "    while pos < len(alist) and not found and not stop:\n",
    "        plt.cla()\n",
    "        bar = plt.bar(x=[i for i in range(len(alist))],height=alist)\n",
    "        plt.title(\"查找 %d\" % item)\n",
    "        bar[pos].set_color(\"green\")\n",
    "        if alist[pos] == item:\n",
    "            found = True    # 查找到当前位置\n",
    "        else:\n",
    "            if item < alist[pos]:\n",
    "                stop = True\n",
    "            else:\n",
    "                pos += 1\n",
    "        plt.pause(0.2)\n",
    "    plt.ioff()\n",
    "    plt.show()\n",
    "    return found"
   ]
  },
  {
   "cell_type": "code",
   "execution_count": 21,
   "metadata": {},
   "outputs": [
    {
     "name": "stdout",
     "output_type": "stream",
     "text": [
      "False\n",
      "True\n"
     ]
    }
   ],
   "source": [
    "testlist = random.choices(range(1,10),k=5,weights=range(1,10))\n",
    "print(sequentialSearch(testlist,3))\n",
    "print(sequentialSearch(testlist,8))"
   ]
  },
  {
   "cell_type": "markdown",
   "metadata": {},
   "source": [
    "## 二分查找\n",
    "### 二分查找建立在有序表的基礎上"
   ]
  },
  {
   "cell_type": "code",
   "execution_count": 40,
   "metadata": {},
   "outputs": [
    {
     "name": "stdout",
     "output_type": "stream",
     "text": [
      "False\n"
     ]
    }
   ],
   "source": [
    "def binarySearch(alist,item):\n",
    "    first = 0\n",
    "    last = len(alist)-1\n",
    "    found = False\n",
    "    plt.figure()\n",
    "    plt.ion()\n",
    "    while first <= last and not found:\n",
    "        plt.cla()\n",
    "        bar = plt.bar(x=[i for i in range(len(alist))],height=alist)\n",
    "        midpoint = (first+last)//2  # 查找中点\n",
    "        bar[midpoint].set_color(\"red\")\n",
    "        if alist[midpoint]==item:  # 中点是否等于item\n",
    "            bar[midpoint].set_color(\"green\")\n",
    "            found = True\n",
    "        else:\n",
    "            if item < alist[midpoint]:\n",
    "                last = midpoint - 1\n",
    "            else:\n",
    "                first = midpoint + 1\n",
    "        plt.pause(1)\n",
    "    plt.ioff()\n",
    "    plt.show()\n",
    "    return found\n",
    "testlist = random.choices(range(1,100),k=30,weights=range(1,100))\n",
    "print(binarySearch(sorted(testlist), 56))"
   ]
  },
  {
   "cell_type": "markdown",
   "metadata": {},
   "source": [
    "### 二分查找分而治之"
   ]
  },
  {
   "cell_type": "code",
   "execution_count": 157,
   "metadata": {},
   "outputs": [],
   "source": [
    "def binarySearchOne(alist, item):\n",
    "    if len(alist)==0:\n",
    "        return False\n",
    "    else:\n",
    "        midpoint = len(alist) // 2  # 查找中点\n",
    "        if alist[midpoint]==item:  # 是否符合主体条件\n",
    "            return True\n",
    "        else:\n",
    "            if item < alist[midpoint]:  # 判断是否在左侧还是右侧\n",
    "                return binarySearchOne(alist[:midpoint],item)\n",
    "            else:\n",
    "                return binarySearchOne(alist[midpoint+1:],item)"
   ]
  },
  {
   "cell_type": "code",
   "execution_count": 158,
   "metadata": {},
   "outputs": [],
   "source": [
    "def binarySearchTwo(alist,item,first,last):\n",
    "    if first >= last:\n",
    "        return False\n",
    "    else:\n",
    "        midpoint = (first+last) // 2\n",
    "        if alist[midpoint] == item:\n",
    "            return True\n",
    "        else:\n",
    "            if item < alist[midpoint]:\n",
    "                return binarySearchTwo(alist, item, first, last=midpoint)\n",
    "            else:\n",
    "                first = midpoint + 1\n",
    "                return binarySearchTwo(alist, item, first, last)"
   ]
  },
  {
   "cell_type": "code",
   "execution_count": 161,
   "metadata": {},
   "outputs": [
    {
     "name": "stdout",
     "output_type": "stream",
     "text": [
      "True\n",
      "True\n",
      "0.00025770000047486974\n",
      "0.00017019999995682156\n"
     ]
    }
   ],
   "source": [
    "testlist = random.choices(range(1,10),k=6,weights=range(1,10))\n",
    "x1 = time.perf_counter()\n",
    "print(binarySearchOne(sorted(testlist), 8))\n",
    "x2 = time.perf_counter()\n",
    "print(binarySearchTwo(sorted(testlist), 8,first=0,last=len(sorted(testlist))-1))\n",
    "x3 = time.perf_counter()\n",
    "print(x2-x1)\n",
    "print(x3-x2)"
   ]
  },
  {
   "cell_type": "markdown",
   "metadata": {},
   "source": [
    "## 冒泡排序"
   ]
  },
  {
   "cell_type": "code",
   "execution_count": 7,
   "metadata": {},
   "outputs": [
    {
     "name": "stdout",
     "output_type": "stream",
     "text": [
      "Using matplotlib backend: Qt5Agg\n",
      "[18, 22, 32, 33, 50, 57, 59, 59, 60, 61, 61, 66, 68, 69, 71, 73, 80, 82, 84, 85, 87, 89, 89, 90, 91, 96, 96, 96, 97, 99]\n"
     ]
    }
   ],
   "source": [
    "%matplotlib\n",
    "def bubbleSort(alist):\n",
    "    plt.figure()\n",
    "    plt.ion()\n",
    "    for passnum in range(len(alist)-1,0,-1):\n",
    "        for i in range(passnum):\n",
    "            plt.cla()\n",
    "            bar = plt.bar(x=[i for i in range(len(alist))],height=alist)\n",
    "            bar[i].set_color(\"red\")\n",
    "            bar[i+1].set_color(\"red\")\n",
    "            plt.pause(0.2)\n",
    "            if alist[i]>alist[i+1]:\n",
    "                temp = alist[i]\n",
    "                alist[i] = alist[i+1]\n",
    "                alist[i+1] = temp\n",
    "                plt.cla()\n",
    "                bar = plt.bar(x=[i for i in range(len(alist))],height=alist)\n",
    "                bar[i].set_color(\"green\")\n",
    "                bar[i+1].set_color(\"green\")\n",
    "        plt.pause(0.4)\n",
    "    plt.ioff()\n",
    "    plt.show()\n",
    "testlist = random.choices(range(1,100),k=30,weights=range(1,100))\n",
    "bubbleSort(testlist)\n",
    "print(testlist)"
   ]
  },
  {
   "cell_type": "code",
   "execution_count": null,
   "metadata": {},
   "outputs": [],
   "source": []
  }
 ],
 "metadata": {
  "kernelspec": {
   "display_name": "Python 3",
   "language": "python",
   "name": "python3"
  },
  "language_info": {
   "codemirror_mode": {
    "name": "ipython",
    "version": 3
   },
   "file_extension": ".py",
   "mimetype": "text/x-python",
   "name": "python",
   "nbconvert_exporter": "python",
   "pygments_lexer": "ipython3",
   "version": "3.7.5"
  }
 },
 "nbformat": 4,
 "nbformat_minor": 2
}
