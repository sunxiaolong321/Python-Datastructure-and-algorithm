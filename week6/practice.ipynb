{
 "cells": [
  {
   "cell_type": "markdown",
   "metadata": {},
   "source": [
    "# 查找和排序算法"
   ]
  },
  {
   "cell_type": "code",
   "execution_count": 1,
   "metadata": {},
   "outputs": [],
   "source": [
    "import matplotlib.pyplot as plt\n",
    "import matplotlib.animation as animation\n",
    "import random\n",
    "import time"
   ]
  },
  {
   "cell_type": "code",
   "execution_count": 2,
   "metadata": {},
   "outputs": [],
   "source": [
    "# %matplotlib inline\n",
    "plt.rcParams['font.family'] = ['sans-serif']\n",
    "plt.rcParams['font.sans-serif'] = ['SimHei']"
   ]
  },
  {
   "cell_type": "code",
   "execution_count": 10,
   "metadata": {},
   "outputs": [],
   "source": [
    "def cal_time(func):\n",
    "    def wrapper(*args, **kw):\n",
    "        time1 = time.perf_counter()\n",
    "        func(*args, **kw)\n",
    "        time2 = time.perf_counter()\n",
    "        print(\"call %s for %s second\"% (func.__name__, time2-time1))\n",
    "    return wrapper"
   ]
  },
  {
   "cell_type": "markdown",
   "metadata": {},
   "source": [
    "## 顺序查找"
   ]
  },
  {
   "cell_type": "markdown",
   "metadata": {},
   "source": [
    "### 无序表查找代码"
   ]
  },
  {
   "cell_type": "code",
   "execution_count": 12,
   "metadata": {},
   "outputs": [
    {
     "name": "stdout",
     "output_type": "stream",
     "text": [
      "Using matplotlib backend: Qt5Agg\n"
     ]
    }
   ],
   "source": [
    "%matplotlib\n",
    "@cal_time\n",
    "def sequentialSearch(alist, item):\n",
    "    plt.figure()\n",
    "    pos = 0 # 当前位置\n",
    "    found = False   # 是否查找到\n",
    "    plt.ion()\n",
    "    while pos < len(alist) and not found:\n",
    "        plt.cla()\n",
    "        bar = plt.bar(x=[i for i in range(len(alist))],height=alist)\n",
    "        bar[pos].set_color(\"red\")\n",
    "        if alist[pos] == item:\n",
    "            bar[pos].set_color(\"green\")\n",
    "            found = True    # 查找到当前位置\n",
    "        else:\n",
    "            pos += 1\n",
    "        plt.pause(1)\n",
    "    plt.ioff()\n",
    "    plt.show()\n",
    "    return found"
   ]
  },
  {
   "cell_type": "code",
   "execution_count": null,
   "metadata": {},
   "outputs": [],
   "source": [
    "sequentialSearch()"
   ]
  },
  {
   "cell_type": "code",
   "execution_count": 5,
   "metadata": {},
   "outputs": [
    {
     "ename": "NameError",
     "evalue": "name 'testlist' is not defined",
     "output_type": "error",
     "traceback": [
      "\u001b[1;31m---------------------------------------------------------------------------\u001b[0m",
      "\u001b[1;31mNameError\u001b[0m                                 Traceback (most recent call last)",
      "\u001b[1;32m<ipython-input-5-cc649491b568>\u001b[0m in \u001b[0;36m<module>\u001b[1;34m\u001b[0m\n\u001b[1;32m----> 1\u001b[1;33m \u001b[0mprint\u001b[0m\u001b[1;33m(\u001b[0m\u001b[0msequentialSearch\u001b[0m\u001b[1;33m(\u001b[0m\u001b[0mtestlist\u001b[0m\u001b[1;33m,\u001b[0m\u001b[1;36m3\u001b[0m\u001b[1;33m)\u001b[0m\u001b[1;33m)\u001b[0m\u001b[1;33m\u001b[0m\u001b[1;33m\u001b[0m\u001b[0m\n\u001b[0m\u001b[0;32m      2\u001b[0m \u001b[1;31m# print(sequentialSearch(testlist,8))\u001b[0m\u001b[1;33m\u001b[0m\u001b[1;33m\u001b[0m\u001b[1;33m\u001b[0m\u001b[0m\n",
      "\u001b[1;31mNameError\u001b[0m: name 'testlist' is not defined"
     ]
    }
   ],
   "source": [
    "\n",
    "print(sequentialSearch(testlist,3))\n",
    "# print(sequentialSearch(testlist,8))"
   ]
  },
  {
   "cell_type": "markdown",
   "metadata": {},
   "source": [
    "### 有序表查找代码"
   ]
  },
  {
   "cell_type": "code",
   "execution_count": 5,
   "metadata": {},
   "outputs": [
    {
     "name": "stdout",
     "output_type": "stream",
     "text": [
      "Using matplotlib backend: Qt5Agg\n"
     ]
    }
   ],
   "source": [
    "%matplotlib\n",
    "def sequentialSearch(alist, item):\n",
    "    pos = 0 # 当前位置\n",
    "    found = False   # 是否查找到\n",
    "    stop = False\n",
    "    plt.figure()\n",
    "    plt.ion()\n",
    "    while pos < len(alist) and not found and not stop:\n",
    "        plt.cla()\n",
    "        bar = plt.bar(x=[i for i in range(len(alist))],height=alist)\n",
    "        plt.title(\"查找 %d\" % item)\n",
    "        bar[pos].set_color(\"green\")\n",
    "        if alist[pos] == item:\n",
    "            found = True    # 查找到当前位置\n",
    "        else:\n",
    "            if item < alist[pos]:\n",
    "                stop = True\n",
    "            else:\n",
    "                pos += 1\n",
    "        plt.pause(0.2)\n",
    "    plt.ioff()\n",
    "    plt.show()\n",
    "    return found"
   ]
  },
  {
   "cell_type": "code",
   "execution_count": 21,
   "metadata": {},
   "outputs": [
    {
     "name": "stdout",
     "output_type": "stream",
     "text": [
      "False\n",
      "True\n"
     ]
    }
   ],
   "source": [
    "testlist = random.choices(range(1,10),k=5,weights=range(1,10))\n",
    "print(sequentialSearch(testlist,3))\n",
    "print(sequentialSearch(testlist,8))"
   ]
  },
  {
   "cell_type": "markdown",
   "metadata": {},
   "source": [
    "## 二分查找\n",
    "### 二分查找建立在有序表的基礎上"
   ]
  },
  {
   "cell_type": "code",
   "execution_count": 6,
   "metadata": {},
   "outputs": [
    {
     "name": "stdout",
     "output_type": "stream",
     "text": [
      "True\n"
     ]
    }
   ],
   "source": [
    "def binarySearch(alist,item):\n",
    "    first = 0\n",
    "    last = len(alist)-1\n",
    "    found = False\n",
    "    plt.figure()\n",
    "    plt.ion()\n",
    "    while first <= last and not found:\n",
    "        plt.cla()\n",
    "        bar = plt.bar(x=[i for i in range(len(alist))],height=alist)\n",
    "        midpoint = (first+last)//2  # 查找中点\n",
    "        bar[midpoint].set_color(\"red\")\n",
    "        if alist[midpoint]==item:  # 中点是否等于item\n",
    "            bar[midpoint].set_color(\"green\")\n",
    "            found = True\n",
    "        else:\n",
    "            if item < alist[midpoint]:\n",
    "                last = midpoint - 1\n",
    "            else:\n",
    "                first = midpoint + 1\n",
    "        plt.pause(1)\n",
    "    plt.ioff()\n",
    "    plt.show()\n",
    "    return found\n",
    "testlist = random.choices(range(1,100),k=30,weights=range(1,100))\n",
    "print(binarySearch(sorted(testlist), 56))"
   ]
  },
  {
   "cell_type": "markdown",
   "metadata": {},
   "source": [
    "### 二分查找分而治之"
   ]
  },
  {
   "cell_type": "code",
   "execution_count": 7,
   "metadata": {},
   "outputs": [],
   "source": [
    "def binarySearchOne(alist, item):\n",
    "    if len(alist)==0:\n",
    "        return False\n",
    "    else:\n",
    "        midpoint = len(alist) // 2  # 查找中点\n",
    "        if alist[midpoint]==item:  # 是否符合主体条件\n",
    "            return True\n",
    "        else:\n",
    "            if item < alist[midpoint]:  # 判断是否在左侧还是右侧\n",
    "                return binarySearchOne(alist[:midpoint],item)\n",
    "            else:\n",
    "                return binarySearchOne(alist[midpoint+1:],item)"
   ]
  },
  {
   "cell_type": "code",
   "execution_count": 158,
   "metadata": {},
   "outputs": [],
   "source": [
    "def binarySearchTwo(alist,item,first,last):\n",
    "    if first >= last:\n",
    "        return False\n",
    "    else:\n",
    "        midpoint = (first+last) // 2\n",
    "        if alist[midpoint] == item:\n",
    "            return True\n",
    "        else:\n",
    "            if item < alist[midpoint]:\n",
    "                return binarySearchTwo(alist, item, first, last=midpoint)\n",
    "            else:\n",
    "                first = midpoint + 1\n",
    "                return binarySearchTwo(alist, item, first, last)"
   ]
  },
  {
   "cell_type": "code",
   "execution_count": 161,
   "metadata": {},
   "outputs": [
    {
     "name": "stdout",
     "output_type": "stream",
     "text": [
      "True\n",
      "True\n",
      "0.00025770000047486974\n",
      "0.00017019999995682156\n"
     ]
    }
   ],
   "source": [
    "testlist = random.choices(range(1,10),k=6,weights=range(1,10))\n",
    "x1 = time.perf_counter()\n",
    "print(binarySearchOne(sorted(testlist), 8))\n",
    "x2 = time.perf_counter()\n",
    "print(binarySearchTwo(sorted(testlist), 8,first=0,last=len(sorted(testlist))-1))\n",
    "x3 = time.perf_counter()\n",
    "print(x2-x1)\n",
    "print(x3-x2)"
   ]
  },
  {
   "cell_type": "markdown",
   "metadata": {},
   "source": [
    "## 冒泡排序"
   ]
  },
  {
   "cell_type": "code",
   "execution_count": 8,
   "metadata": {},
   "outputs": [
    {
     "name": "stdout",
     "output_type": "stream",
     "text": [
      "Using matplotlib backend: Qt5Agg\n",
      "[7, 16, 21, 32, 33, 37, 53, 53, 54, 56, 58, 59, 72, 74, 75, 75, 76, 78, 78, 86, 87, 88, 90, 90, 92, 95, 95, 96, 97, 98]\n"
     ]
    }
   ],
   "source": [
    "%matplotlib\n",
    "def bubbleSort(alist):\n",
    "    plt.figure()\n",
    "    plt.ion()\n",
    "    for passnum in range(len(alist)-1,0,-1):\n",
    "        for i in range(passnum):\n",
    "            plt.cla()\n",
    "            bar = plt.bar(x=[i for i in range(len(alist))],height=alist)\n",
    "            bar[i].set_color(\"red\")\n",
    "            bar[i+1].set_color(\"red\")\n",
    "            plt.pause(0.2)\n",
    "            if alist[i]>alist[i+1]:\n",
    "                temp = alist[i]\n",
    "                alist[i] = alist[i+1]\n",
    "                alist[i+1] = temp\n",
    "                plt.cla()\n",
    "                bar = plt.bar(x=[i for i in range(len(alist))],height=alist)\n",
    "                bar[i].set_color(\"green\")\n",
    "                bar[i+1].set_color(\"green\")\n",
    "        plt.pause(0.4)\n",
    "    plt.ioff()\n",
    "    plt.show()\n",
    "testlist = random.choices(range(1,100),k=30,weights=range(1,100))\n",
    "bubbleSort(testlist)\n",
    "print(testlist)"
   ]
  },
  {
   "cell_type": "markdown",
   "metadata": {},
   "source": [
    "## 快速排序"
   ]
  },
  {
   "cell_type": "code",
   "execution_count": 91,
   "metadata": {},
   "outputs": [],
   "source": [
    "def quickSort(alist,left,right):\n",
    "    if left < right:\n",
    "        mid = random_partition(alist, left, right)\n",
    "        quickSort(alist, left, mid-1)\n",
    "        quickSort(alist, mid+1, right)\n",
    "\n",
    "def partition(li, left, right):\n",
    "    tmp = li[left]\n",
    "    while left < right:\n",
    "        while left < right and li[right] >= tmp:\n",
    "            right -= 1\n",
    "        li[left] = li[right]\n",
    "        while left < right and li[left] <= tmp:\n",
    "            left += 1\n",
    "        li[right] = li[left]\n",
    "    li[left] = tmp\n",
    "    return left\n",
    "\n",
    "def random_partition(li, left, right):\n",
    "    i = random.randint(left,right)\n",
    "    li[i],li[left] = li[left],li[i]\n",
    "    return partition(li, left, right)"
   ]
  },
  {
   "cell_type": "code",
   "execution_count": 109,
   "metadata": {},
   "outputs": [],
   "source": [
    "def quickSort2(alist):\n",
    "    if len(alist) < 2:\n",
    "        return alic st\n",
    "    pviot = alist[0]\n",
    "    left = [v for v in alist[1:] if v <= pviot]\n",
    "    right = [v for v in alist[1:] if v > pviot]\n",
    "    left = quickSort2(left)\n",
    "    right = quickSort2(right)\n",
    "    return left + [pviot] + right"
   ]
  },
  {
   "cell_type": "code",
   "execution_count": 138,
   "metadata": {
    "scrolled": false
   },
   "outputs": [
    {
     "name": "stdout",
     "output_type": "stream",
     "text": [
      "0.00011630000017248676\n",
      "9.520000003249152e-05\n"
     ]
    }
   ],
   "source": [
    "testlist1 = random.choices(range(1,100),k=10,weights=range(1,100))\n",
    "testlist2 = testlist1\n",
    "start = time.perf_counter()\n",
    "quickSort(testlist1,0,len(testlist1)-1)\n",
    "end1 = time.perf_counter()\n",
    "quickSort2(testlist2)\n",
    "end2 = time.perf_counter()\n",
    "print(end1-start)\n",
    "print(end2-end1)"
   ]
  },
  {
   "cell_type": "code",
   "execution_count": 5,
   "metadata": {},
   "outputs": [
    {
     "name": "stdout",
     "output_type": "stream",
     "text": [
      "Using matplotlib backend: Qt5Agg\n"
     ]
    },
    {
     "name": "stderr",
     "output_type": "stream",
     "text": [
      "Traceback (most recent call last):\n",
      "  File \"D:\\Miniconda3\\envs\\datascience\\lib\\site-packages\\matplotlib\\cbook\\__init__.py\", line 216, in process\n",
      "    func(*args, **kwargs)\n",
      "  File \"D:\\Miniconda3\\envs\\datascience\\lib\\site-packages\\matplotlib\\animation.py\", line 957, in _start\n",
      "    self.event_source.add_callback(self._step)\n",
      "AttributeError: 'NoneType' object has no attribute 'add_callback'\n"
     ]
    }
   ],
   "source": [
    "import numpy as np\n",
    "import matplotlib.pyplot as plt\n",
    "import matplotlib.animation as animation\n",
    "\n",
    "\n",
    "def data_gen(t=0):\n",
    "    cnt = 0\n",
    "    while cnt < 1000:\n",
    "        cnt += 1\n",
    "        t += 0.1\n",
    "        yield t, np.sin(2*np.pi*t) * np.exp(-t/10.)\n",
    "\n",
    "\n",
    "def init():\n",
    "    ax.set_ylim(-1.1, 1.1)\n",
    "    ax.set_xlim(0, 10)\n",
    "    del xdata[:]\n",
    "    del ydata[:]\n",
    "    line.set_data(xdata, ydata)\n",
    "    return line,\n",
    "\n",
    "fig, ax = plt.subplots()\n",
    "line, = ax.plot([], [], lw=2)\n",
    "ax.grid()\n",
    "xdata, ydata = [], []\n",
    "\n",
    "\n",
    "def run(data):\n",
    "    # update the data\n",
    "    t, y = data\n",
    "    xdata.append(t)\n",
    "    ydata.append(y)\n",
    "    xmin, xmax = ax.get_xlim()\n",
    "\n",
    "    if t >= xmax:\n",
    "        ax.set_xlim(xmin, 2*xmax)\n",
    "        ax.figure.canvas.draw()\n",
    "    line.set_data(xdata, ydata)\n",
    "\n",
    "    return line,\n",
    "\n",
    "ani = animation.FuncAnimation(fig, run, data_gen, blit=False, interval=10,\n",
    "                              repeat=False, init_func=init)\n",
    "plt.show()"
   ]
  },
  {
   "cell_type": "code",
   "execution_count": 129,
   "metadata": {},
   "outputs": [
    {
     "data": {
      "text/plain": [
       "61.921875"
      ]
     },
     "execution_count": 129,
     "metadata": {},
     "output_type": "execute_result"
    }
   ],
   "source": [
    "end1"
   ]
  },
  {
   "cell_type": "code",
   "execution_count": null,
   "metadata": {},
   "outputs": [],
   "source": []
  }
 ],
 "metadata": {
  "kernelspec": {
   "display_name": "Python 3",
   "language": "python",
   "name": "python3"
  },
  "language_info": {
   "codemirror_mode": {
    "name": "ipython",
    "version": 3
   },
   "file_extension": ".py",
   "mimetype": "text/x-python",
   "name": "python",
   "nbconvert_exporter": "python",
   "pygments_lexer": "ipython3",
   "version": "3.7.5"
  }
 },
 "nbformat": 4,
 "nbformat_minor": 2
}
