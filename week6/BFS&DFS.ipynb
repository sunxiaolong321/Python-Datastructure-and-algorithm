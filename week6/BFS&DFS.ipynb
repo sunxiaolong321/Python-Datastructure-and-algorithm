{
 "cells": [
  {
   "cell_type": "code",
   "execution_count": null,
   "metadata": {},
   "outputs": [],
   "source": []
  },
  {
   "cell_type": "markdown",
   "metadata": {},
   "source": [
    "## 深度优先搜索\n",
    "使用栈来解决迷宫问题"
   ]
  },
  {
   "cell_type": "code",
   "execution_count": 19,
   "metadata": {},
   "outputs": [],
   "source": [
    "maze = [\n",
    "    [1,1,1,1,1,1,1,1,1,1],\n",
    "    [1,0,0,1,0,0,0,1,0,1],\n",
    "    [1,0,0,1,0,0,0,1,0,1],\n",
    "    [1,0,0,0,0,1,1,0,0,1],\n",
    "    [1,0,1,1,1,0,0,0,0,1],\n",
    "    [1,0,0,0,1,0,0,0,0,1],\n",
    "    [1,0,1,0,0,0,1,0,0,1], \n",
    "    [1,0,1,1,1,0,1,1,0,1],\n",
    "    [1,1,0,0,0,0,0,0,0,1],\n",
    "    [1,1,1,1,1,1,1,1,1,1]\n",
    "]"
   ]
  },
  {
   "cell_type": "code",
   "execution_count": 20,
   "metadata": {},
   "outputs": [],
   "source": [
    "# x1和y1为起点坐标，x2和y2为终点坐标\n",
    "dirs = [\n",
    "    lambda x, y: (x+1,y), # 下\n",
    "    lambda x, y: (x-1, y), # 上\n",
    "    lambda x, y: (x, y-1), # 左\n",
    "    lambda x, y: (x, y+1), # 右\n",
    "]\n",
    "def solveMaze(x1,y1,x2,y2):\n",
    "#     建栈\n",
    "    stack = []\n",
    "    stack.append((x1, y1))\n",
    "#     2表示已经走过的点\n",
    "    maze[x1][y1] = 2\n",
    "    while len(stack) > 0:\n",
    "#         看栈的最后一个元素是不是有位置可以走\n",
    "        cur_node = stack[-1]\n",
    "        if cur_node == (x2, y2):\n",
    "            print(stack)\n",
    "            return True\n",
    "        for d in dirs:\n",
    "            next_node = d(*cur_node)\n",
    "            if maze[next_node[0]][next_node[1]] == 0:\n",
    "                stack.append(next_node)\n",
    "                maze[next_node[0]][next_node[1]] = 2\n",
    "                break\n",
    "        else:\n",
    "            stack.pop()\n",
    "    print(\"无路\")\n",
    "    return False"
   ]
  },
  {
   "cell_type": "code",
   "execution_count": 21,
   "metadata": {},
   "outputs": [
    {
     "name": "stdout",
     "output_type": "stream",
     "text": [
      "[(1, 1), (2, 1), (3, 1), (4, 1), (5, 1), (5, 2), (5, 3), (6, 3), (6, 4), (6, 5), (7, 5), (8, 5), (8, 6), (8, 7), (8, 8)]\n"
     ]
    },
    {
     "data": {
      "text/plain": [
       "True"
      ]
     },
     "execution_count": 21,
     "metadata": {},
     "output_type": "execute_result"
    }
   ],
   "source": [
    "solveMaze(1,1,8,8)"
   ]
  },
  {
   "cell_type": "code",
   "execution_count": null,
   "metadata": {},
   "outputs": [],
   "source": []
  }
 ],
 "metadata": {
  "kernelspec": {
   "display_name": "Python 3",
   "language": "python",
   "name": "python3"
  },
  "language_info": {
   "codemirror_mode": {
    "name": "ipython",
    "version": 3
   },
   "file_extension": ".py",
   "mimetype": "text/x-python",
   "name": "python",
   "nbconvert_exporter": "python",
   "pygments_lexer": "ipython3",
   "version": "3.7.5"
  }
 },
 "nbformat": 4,
 "nbformat_minor": 2
}
