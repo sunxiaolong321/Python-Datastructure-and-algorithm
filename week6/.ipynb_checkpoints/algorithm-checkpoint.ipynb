{
 "cells": [
  {
   "cell_type": "code",
   "execution_count": 1,
   "metadata": {},
   "outputs": [],
   "source": [
    "import time\n",
    "import random"
   ]
  },
  {
   "cell_type": "code",
   "execution_count": 2,
   "metadata": {},
   "outputs": [],
   "source": [
    "def cal_time(func):\n",
    "    def wrapper(*args, **kw):\n",
    "        start = time.perf_counter()\n",
    "        func(*args, **kw)\n",
    "        end = time.perf_counter()\n",
    "        print(\"runs %s for %f second\" % (func.__name__, end-start))\n",
    "    return wrapper"
   ]
  },
  {
   "cell_type": "code",
   "execution_count": 3,
   "metadata": {},
   "outputs": [],
   "source": [
    "# 判断列表是否有序\n",
    "def sequenceList(li):\n",
    "    for i in range(len(li)-1):\n",
    "        if li[i] > li[i+1]:\n",
    "            print(\"the list is not ordered\")\n",
    "            return\n",
    "    print(\"the list is ordered\")"
   ]
  },
  {
   "cell_type": "markdown",
   "metadata": {},
   "source": [
    "## 二分查找"
   ]
  },
  {
   "cell_type": "code",
   "execution_count": 72,
   "metadata": {},
   "outputs": [],
   "source": [
    "@cal_time\n",
    "def binSearch(li, value):\n",
    "    low = 0\n",
    "    high = len(li)-1\n",
    "    while low <= high:\n",
    "        mid = (high + low) // 2\n",
    "        if li[mid] == value:\n",
    "            return mid\n",
    "        elif value < li[mid]:\n",
    "            high = mid - 1\n",
    "        else:\n",
    "            low = mid + 1\n",
    "    return -1"
   ]
  },
  {
   "cell_type": "code",
   "execution_count": 91,
   "metadata": {},
   "outputs": [
    {
     "name": "stdout",
     "output_type": "stream",
     "text": [
      "the situation is 19958\n",
      "runs binSearch for 0.000012 second\n"
     ]
    }
   ],
   "source": [
    "x = list(range(0,100000))\n",
    "key = random.choice(x)\n",
    "binSearch(x, key)"
   ]
  },
  {
   "cell_type": "markdown",
   "metadata": {},
   "source": [
    "## 顺序查找"
   ]
  },
  {
   "cell_type": "code",
   "execution_count": 86,
   "metadata": {},
   "outputs": [],
   "source": [
    "@cal_time\n",
    "def sequentialSearch(li, value):\n",
    "    pos = 0\n",
    "    while pos < len(li):\n",
    "        if li[pos] == value:\n",
    "            return pos\n",
    "        pos += 1\n",
    "    return -1    "
   ]
  },
  {
   "cell_type": "code",
   "execution_count": 93,
   "metadata": {},
   "outputs": [
    {
     "name": "stdout",
     "output_type": "stream",
     "text": [
      "the situation is 19958\n",
      "runs sequentialSearch for 0.005913 second\n"
     ]
    }
   ],
   "source": [
    "sequentialSearch(x, key)"
   ]
  },
  {
   "cell_type": "markdown",
   "metadata": {},
   "source": [
    "## 冒泡排序"
   ]
  },
  {
   "cell_type": "code",
   "execution_count": 4,
   "metadata": {},
   "outputs": [],
   "source": [
    "@cal_time\n",
    "def bubbleSort(li):\n",
    "    pos = 0\n",
    "    amount = len(li)\n",
    "    for i in range(amount-1):\n",
    "        cycle = False\n",
    "        for j in range(amount-i-1):\n",
    "            if li[j] > li[j+1]:\n",
    "                li[j], li[j+1] = li[j+1], li[j]\n",
    "                cycle= True\n",
    "        if not cycle:\n",
    "            break"
   ]
  },
  {
   "cell_type": "code",
   "execution_count": 8,
   "metadata": {},
   "outputs": [
    {
     "name": "stdout",
     "output_type": "stream",
     "text": [
      "runs bubbleSort for 17.740258 second\n"
     ]
    }
   ],
   "source": [
    "li = random.choices(range(1,100000), k=10000)\n",
    "bubbleSort(li)"
   ]
  },
  {
   "cell_type": "markdown",
   "metadata": {},
   "source": [
    "## 选择排序"
   ]
  },
  {
   "cell_type": "code",
   "execution_count": 20,
   "metadata": {},
   "outputs": [],
   "source": [
    "@cal_time\n",
    "def selectSort(li):\n",
    "    for i in range(len(li)):\n",
    "        exchange = False\n",
    "        for j in range(i+1, len(li)):\n",
    "            if li[j] < li[i]:\n",
    "                li[i], li[j] = li[j], li[i]\n",
    "                exhange = True\n",
    "        if not exhange:\n",
    "            break"
   ]
  },
  {
   "cell_type": "code",
   "execution_count": 21,
   "metadata": {},
   "outputs": [
    {
     "name": "stdout",
     "output_type": "stream",
     "text": [
      "runs selectSort for 8.556294 second\n"
     ]
    }
   ],
   "source": [
    "li = random.choices(range(1,100000), k=10000)\n",
    "selectSort(li)"
   ]
  },
  {
   "cell_type": "code",
   "execution_count": 68,
   "metadata": {},
   "outputs": [],
   "source": [
    "@cal_time\n",
    "def selectSort2(li):\n",
    "    for i in range(len(li)):\n",
    "        min_pos = i\n",
    "        exchange = False\n",
    "        for j in range(i+1, len(li)):\n",
    "            if li[j] < li[i]:\n",
    "                min_pos = j\n",
    "                exchange = True\n",
    "        if not exchange:\n",
    "            break\n",
    "        li[i], li[min_pos] = li[min_pos], li[i]"
   ]
  },
  {
   "cell_type": "code",
   "execution_count": 69,
   "metadata": {},
   "outputs": [
    {
     "name": "stdout",
     "output_type": "stream",
     "text": [
      "runs selectSort2 for 4.063522 second\n"
     ]
    }
   ],
   "source": [
    "li = random.choices(range(1,100000), k=10000)\n",
    "selectSort2(li)"
   ]
  },
  {
   "cell_type": "markdown",
   "metadata": {},
   "source": [
    "## 插入排序"
   ]
  },
  {
   "cell_type": "code",
   "execution_count": 76,
   "metadata": {},
   "outputs": [],
   "source": [
    "@cal_time\n",
    "def insertSort(li):\n",
    "    for i in range(len(li)-1):\n",
    "        exhange = True\n",
    "        while i >= 0 and exhange:\n",
    "            if li[i+1] < li[i]:\n",
    "                li[i],li[i+1] = li[i+1],li[i]\n",
    "            else:\n",
    "                exhange = False\n",
    "            i -= 1\n",
    "\n",
    "@cal_time\n",
    "def insertSort2(li):\n",
    "    for i in range(1, len(li)):\n",
    "        tmp = li[i] # 当前位置\n",
    "        j = i - 1\n",
    "        while j >= 0 and li[j] > tmp:\n",
    "            li[j+1] = li[j]\n",
    "            j -= 1\n",
    "        li[j+1] = tmp"
   ]
  },
  {
   "cell_type": "code",
   "execution_count": null,
   "metadata": {},
   "outputs": [],
   "source": [
    "li = random.choices(range(1,100000), k=100000)\n",
    "insertSort(li)\n",
    "li = random.choices(range(1,100000), k=100000)\n",
    "insertSort2(li)"
   ]
  },
  {
   "cell_type": "code",
   "execution_count": 64,
   "metadata": {},
   "outputs": [
    {
     "name": "stdout",
     "output_type": "stream",
     "text": [
      "the list is ordered\n"
     ]
    }
   ],
   "source": [
    "sequenceList(li)"
   ]
  },
  {
   "cell_type": "markdown",
   "metadata": {},
   "source": [
    "## 快速排序算法"
   ]
  },
  {
   "cell_type": "code",
   "execution_count": 12,
   "metadata": {},
   "outputs": [],
   "source": [
    "@cal_time\n",
    "def quickSort(li):\n",
    "    left = 0\n",
    "    right = len(li)-1\n",
    "    def _quickSort(li, left, right):\n",
    "        if left < right:\n",
    "            mid = partition(li, left, right)\n",
    "            _quickSort(li, left, mid-1)\n",
    "            _quickSort(li, mid+1, right)\n",
    "    _quickSort(li, left, right)\n",
    "\n",
    "def partition(li, left, right):\n",
    "    tmp = li[left]\n",
    "    while left < right:\n",
    "        while left < right and li[right] > tmp:\n",
    "            right -= 1\n",
    "        li[left] = li[right]\n",
    "        while left < right and li[left] <= tmp:\n",
    "            left += 1\n",
    "        li[right] = li[left]\n",
    "    li[left] = tmp\n",
    "    return left\n",
    "\n"
   ]
  },
  {
   "cell_type": "code",
   "execution_count": 13,
   "metadata": {},
   "outputs": [
    {
     "name": "stdout",
     "output_type": "stream",
     "text": [
      "runs quickSort for 0.426368 second\n"
     ]
    }
   ],
   "source": [
    "li = random.choices(range(1,100000), k=100000)\n",
    "quickSort(li)"
   ]
  },
  {
   "cell_type": "markdown",
   "metadata": {},
   "source": [
    "## 堆排序"
   ]
  },
  {
   "cell_type": "code",
   "execution_count": 10,
   "metadata": {},
   "outputs": [],
   "source": [
    "# 构建堆\n",
    "def sift(li, low, high):\n",
    "    tmp = li[low]\n",
    "    i = low\n",
    "    j = 2 * i + 1\n",
    "    while j <= high: # 退出的第一种情况\n",
    "        if j + 1 <= high and li[j] < li[j+1]: # 如果右孩子存在并且比左孩子大， 右孩子\n",
    "            j += 1\n",
    "        if li[j] > tmp:\n",
    "            li[i] = li[j]\n",
    "            i = j\n",
    "            j = 2 * i + 1\n",
    "        else:\n",
    "            break # 推出的第二种情况\n",
    "    li[i] = tmp\n",
    "\n",
    "@cal_time\n",
    "def heapSort(li):\n",
    "    n = len(li)\n",
    "    # 构造堆\n",
    "    for low in range(n//2-1,-1,-1):\n",
    "        sift(li, low, n-1)\n",
    "    # 2. 挨个出数\n",
    "    for high in range(n-1, -1, -1):\n",
    "        li[0], li[high] = li[high], li[0]\n",
    "        sift(li, 0, high-1)"
   ]
  },
  {
   "cell_type": "code",
   "execution_count": 11,
   "metadata": {},
   "outputs": [
    {
     "name": "stdout",
     "output_type": "stream",
     "text": [
      "runs heapSort for 0.323002 second\n"
     ]
    }
   ],
   "source": [
    "li = random.choices(range(1,100000), k=100000)\n",
    "heapSort(li)"
   ]
  },
  {
   "cell_type": "code",
   "execution_count": 88,
   "metadata": {},
   "outputs": [],
   "source": [
    "# 大顶堆\n",
    "def sift(li, low, high):\n",
    "    tmp = li[low]\n",
    "    i = low\n",
    "    j = 2 * i + 1\n",
    "    while j <= high:\n",
    "        if j + 1 <= high and li[j+1] > li[j]:\n",
    "            j += 1\n",
    "        if li[j] > tmp:\n",
    "            li[i] = li[j]\n",
    "            i = j\n",
    "            j = 2 * i + 1\n",
    "        else:\n",
    "            break\n",
    "    li[i] = tmp\n",
    "            \n",
    "def heapSort(li):\n",
    "    n = len(li)\n",
    "    # 构造堆\n",
    "    for low in range(n//2-1, -1, -1):\n",
    "        sift(li, low, n-1)\n",
    "    # 挨个出数\n",
    "    for high in range(n-1, -1, -1):\n",
    "        li[0],li[high] = li[high], li[0]\n",
    "        sift(li, 0, high-1)\n",
    "\n",
    "# 移除最大元素\n",
    "def removeMix(li):\n",
    "    n = len(li)\n",
    "    newLi = []\n",
    "    for low in range(n//2-1, -1, -1):\n",
    "        sift(li, low, n-1)\n",
    "    return li[0]\n",
    "\n",
    "# 添加一个元素\n",
    "def addNumber(li, x):\n",
    "    li.append(x)\n",
    "        for low in range(n//2-1, -1, -1):\n",
    "        sift(li, low, n-1)\n",
    "    for high in range(n-1, -1, -1):\n",
    "        li[0],li[high] = li[high], li[0]\n",
    "        sift(li, 0, high-1)\n"
   ]
  },
  {
   "cell_type": "code",
   "execution_count": 83,
   "metadata": {},
   "outputs": [],
   "source": [
    "# 构建小顶堆\n",
    "def sift(li, low, high):\n",
    "    tmp = li[low]\n",
    "    i = low\n",
    "    j = 2 * i + 1\n",
    "    while j <= high:\n",
    "        if j + 1 <= high and li[j+1] < li[j]:\n",
    "            j += 1\n",
    "        if li[j] < tmp:\n",
    "            li[i] = li[j]\n",
    "            i = j\n",
    "            j = j * 2 + 1\n",
    "        else:\n",
    "            break\n",
    "    li[i] = tmp\n",
    "\n",
    "def heapSort(li):\n",
    "    n = len(li)\n",
    "    for low in range(n//2-1,-1,-1):\n",
    "        sift(li, low, n-1)\n",
    "#     这样排出来是倒叙\n",
    "#     for high in range(n-1, -1, -1):\n",
    "#         li[0],li[high] = li[high],li[0]\n",
    "#         sift(li,0,high-1)\n",
    "#     正序排列\n",
    "    liDou = []\n",
    "    for high in range(0, n, -1):\n",
    "        liDou.append(li[0])\n",
    "        li[0],li[n-high-1] = li[n-1-high],li[0]\n",
    "        sift(li, 0, n-high-2)\n",
    "    return liDou"
   ]
  },
  {
   "cell_type": "code",
   "execution_count": 89,
   "metadata": {
    "scrolled": true
   },
   "outputs": [
    {
     "data": {
      "text/plain": [
       "[3, 0, 4, 1, 2, 0, 1, 0, 0]"
      ]
     },
     "execution_count": 89,
     "metadata": {},
     "output_type": "execute_result"
    }
   ],
   "source": [
    "x = list(range(10))\n",
    "random.shuffle(x)\n",
    "removeMix(x)"
   ]
  },
  {
   "cell_type": "markdown",
   "metadata": {},
   "source": [
    "## 归并排序"
   ]
  },
  {
   "cell_type": "code",
   "execution_count": 24,
   "metadata": {},
   "outputs": [],
   "source": [
    "def merge(li, low, mid, high):\n",
    "    # 列表两段有序，[low, mid], [mid+1, high]\n",
    "    i = low\n",
    "    j = mid + 1\n",
    "    li_tmp = []\n",
    "    while i <= mid and j <= high:\n",
    "        if li[i] <= li[j]:\n",
    "            li_tmp.append(li[i])\n",
    "            i += 1\n",
    "        else:\n",
    "            li_tmp.append(li[j])\n",
    "            j += 1\n",
    "    \n",
    "    while i <= mid:\n",
    "        li_tmp.append(li[i])\n",
    "        i += 1\n",
    "    while j <= high:\n",
    "        li_tmp.append(li[j])\n",
    "        j += 1\n",
    "    for i in range(low, high+1):\n",
    "        li[i] = li_tmp[i-low]\n",
    "#     li[low:high+1] = li_tmp\n",
    "\n",
    "@cal_time\n",
    "def mergeSort(li):\n",
    "    def _mergeSort(li, low, high):\n",
    "        if low < high:\n",
    "            mid = (low + high) // 2\n",
    "            _mergeSort(li, low, mid)\n",
    "            _mergeSort(li, mid+1, high)\n",
    "            merge(li, low, mid, high)\n",
    "    _mergeSort(li, 0, len(li)-1)"
   ]
  },
  {
   "cell_type": "code",
   "execution_count": null,
   "metadata": {},
   "outputs": [],
   "source": [
    "li = list(range(1000))\n",
    "random.shuffle(li)\n",
    "mergeSort(li)"
   ]
  },
  {
   "cell_type": "markdown",
   "metadata": {},
   "source": [
    "## 希尔排序"
   ]
  },
  {
   "cell_type": "code",
   "execution_count": 6,
   "metadata": {},
   "outputs": [],
   "source": [
    "def insertGap(li, d):\n",
    "    for i in range(d, len(li)):\n",
    "        tmp = li[i]\n",
    "        j = i - d\n",
    "        while j >= 0 and li[j] > tmp:\n",
    "            li[j+d] = li[j]\n",
    "            j -= d\n",
    "        li[j+d] = tmp\n",
    "\n",
    "@cal_time        \n",
    "def shellSort(li):\n",
    "    d = len(li) // 2\n",
    "    while d > 0:\n",
    "        insertGap(li, d)\n",
    "        d //= 2"
   ]
  },
  {
   "cell_type": "code",
   "execution_count": 12,
   "metadata": {},
   "outputs": [
    {
     "name": "stdout",
     "output_type": "stream",
     "text": [
      "runs shellSort for 18.845328 second\n"
     ]
    }
   ],
   "source": [
    "li = list(range(1000))\n",
    "random.shuffle(li)\n",
    "shellSort(li)"
   ]
  },
  {
   "cell_type": "markdown",
   "metadata": {},
   "source": [
    "## 计数排序"
   ]
  },
  {
   "cell_type": "code",
   "execution_count": 14,
   "metadata": {},
   "outputs": [],
   "source": [
    "@cal_time\n",
    "def countSort(li, max_num=100):\n",
    "    count = [0 for _ in range(max_num+1)]\n",
    "    for val in li:\n",
    "        count[val] += 1\n",
    "    li.clear()\n",
    "    for i, v in enumerate(count):\n",
    "        for _ in range(v):\n",
    "            li.append(i)"
   ]
  },
  {
   "cell_type": "code",
   "execution_count": 17,
   "metadata": {},
   "outputs": [
    {
     "name": "stdout",
     "output_type": "stream",
     "text": [
      "runs countSort for 0.000141 second\n"
     ]
    }
   ],
   "source": [
    "li = list(range(100))\n",
    "countSort(li)"
   ]
  },
  {
   "cell_type": "markdown",
   "metadata": {},
   "source": [
    "## 基数排序"
   ]
  },
  {
   "cell_type": "code",
   "execution_count": 7,
   "metadata": {},
   "outputs": [
    {
     "name": "stdout",
     "output_type": "stream",
     "text": [
      "5\n"
     ]
    }
   ],
   "source": [
    "# 选取某一位上的数字\n",
    "def getDigit(number, i):\n",
    "    return number // (10 ** i) % 10\n",
    "\n",
    "print(getDigit(156,1))\n",
    "\n",
    "def bucketSort(li):\n",
    "    maxnumber = max(li)\n",
    "    i = 0\n",
    "    while(10 ** i <= maxnumber):\n",
    "        buckets = [[] for _ in range(10)]\n",
    "        for number in li:\n",
    "            serial = getDigit(number, i)\n",
    "            buckets[serial].append(number)\n",
    "        \n",
    "        li.clear()\n",
    "        for bucket in buckets:\n",
    "            li.append(bucket)\n",
    "        i += 1"
   ]
  }
 ],
 "metadata": {
  "kernelspec": {
   "display_name": "Python 3",
   "language": "python",
   "name": "python3"
  },
  "language_info": {
   "codemirror_mode": {
    "name": "ipython",
    "version": 3
   },
   "file_extension": ".py",
   "mimetype": "text/x-python",
   "name": "python",
   "nbconvert_exporter": "python",
   "pygments_lexer": "ipython3",
   "version": "3.7.5"
  }
 },
 "nbformat": 4,
 "nbformat_minor": 2
}
