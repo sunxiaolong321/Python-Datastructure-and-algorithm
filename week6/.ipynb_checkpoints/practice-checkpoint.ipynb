{
 "cells": [
  {
   "cell_type": "markdown",
   "metadata": {},
   "source": [
    "# 查找和排序算法"
   ]
  },
  {
   "cell_type": "code",
   "execution_count": 1,
   "metadata": {},
   "outputs": [],
   "source": [
    "import matplotlib.pyplot as plt\n",
    "import random\n",
    "import time"
   ]
  },
  {
   "cell_type": "code",
   "execution_count": 2,
   "metadata": {},
   "outputs": [],
   "source": [
    "%matplotlib inline\n",
    "plt.rcParams['font.family'] = ['sans-serif']\n",
    "plt.rcParams['font.sans-serif'] = ['SimHei']"
   ]
  },
  {
   "cell_type": "markdown",
   "metadata": {},
   "source": [
    "## 顺序查找"
   ]
  },
  {
   "cell_type": "markdown",
   "metadata": {},
   "source": [
    "### 无序表查找代码"
   ]
  },
  {
   "cell_type": "code",
   "execution_count": 4,
   "metadata": {},
   "outputs": [
    {
     "name": "stdout",
     "output_type": "stream",
     "text": [
      "Using matplotlib backend: Qt5Agg\n"
     ]
    }
   ],
   "source": [
    "%matplotlib\n",
    "def sequentialSearch(alist, item):\n",
    "    plt.figure()\n",
    "    pos = 0 # 当前位置\n",
    "    found = False   # 是否查找到\n",
    "    plt.ion()\n",
    "    while pos < len(alist) and not found:\n",
    "        plt.cla()\n",
    "        bar = plt.bar(x=[i for i in range(len(alist))],height=alist)\n",
    "        bar[pos].set_color(\"red\")\n",
    "        if alist[pos] == item:\n",
    "            bar[pos].set_color(\"green\")\n",
    "            found = True    # 查找到当前位置\n",
    "        else:\n",
    "            pos += 1\n",
    "        plt.pause(1)\n",
    "    plt.ioff()\n",
    "    plt.show()\n",
    "    return found"
   ]
  },
  {
   "cell_type": "code",
   "execution_count": 6,
   "metadata": {},
   "outputs": [
    {
     "name": "stdout",
     "output_type": "stream",
     "text": [
      "True\n"
     ]
    }
   ],
   "source": [
    "\n",
    "print(sequentialSearch(testlist,3))\n",
    "# print(sequentialSearch(testlist,8))"
   ]
  },
  {
   "cell_type": "markdown",
   "metadata": {},
   "source": [
    "### 有序表查找代码"
   ]
  },
  {
   "cell_type": "code",
   "execution_count": 20,
   "metadata": {},
   "outputs": [
    {
     "name": "stdout",
     "output_type": "stream",
     "text": [
      "Using matplotlib backend: Qt5Agg\n"
     ]
    }
   ],
   "source": [
    "%matplotlib\n",
    "def sequentialSearch(alist, item):\n",
    "    pos = 0 # 当前位置\n",
    "    found = False   # 是否查找到\n",
    "    stop = False\n",
    "    plt.figure()\n",
    "    plt.ion()\n",
    "    while pos < len(alist) and not found and not stop:\n",
    "        plt.cla()\n",
    "        bar = plt.bar(x=[i for i in range(len(alist))],height=alist)\n",
    "        plt.title(\"查找 %d\" % item)\n",
    "        bar[pos].set_color(\"green\")\n",
    "        if alist[pos] == item:\n",
    "            found = True    # 查找到当前位置\n",
    "        else:\n",
    "            if item < alist[pos]:\n",
    "                stop = True\n",
    "            else:\n",
    "                pos += 1\n",
    "        plt.pause(0.2)\n",
    "    plt.ioff()\n",
    "    plt.show()\n",
    "    return found"
   ]
  },
  {
   "cell_type": "code",
   "execution_count": 21,
   "metadata": {},
   "outputs": [
    {
     "name": "stdout",
     "output_type": "stream",
     "text": [
      "False\n",
      "True\n"
     ]
    }
   ],
   "source": [
    "testlist = random.choices(range(1,10),k=5,weights=range(1,10))\n",
    "print(sequentialSearch(testlist,3))\n",
    "print(sequentialSearch(testlist,8))"
   ]
  },
  {
   "cell_type": "markdown",
   "metadata": {},
   "source": [
    "## 二分查找\n",
    "### 二分查找建立在有序表的基礎上"
   ]
  },
  {
   "cell_type": "code",
   "execution_count": 40,
   "metadata": {},
   "outputs": [
    {
     "name": "stdout",
     "output_type": "stream",
     "text": [
      "False\n"
     ]
    }
   ],
   "source": [
    "def binarySearch(alist,item):\n",
    "    first = 0\n",
    "    last = len(alist)-1\n",
    "    found = False\n",
    "    plt.figure()\n",
    "    plt.ion()\n",
    "    while first <= last and not found:\n",
    "        plt.cla()\n",
    "        bar = plt.bar(x=[i for i in range(len(alist))],height=alist)\n",
    "        midpoint = (first+last)//2  # 查找中点\n",
    "        bar[midpoint].set_color(\"red\")\n",
    "        if alist[midpoint]==item:  # 中点是否等于item\n",
    "            bar[midpoint].set_color(\"green\")\n",
    "            found = True\n",
    "        else:\n",
    "            if item < alist[midpoint]:\n",
    "                last = midpoint - 1\n",
    "            else:\n",
    "                first = midpoint + 1\n",
    "        plt.pause(1)\n",
    "    plt.ioff()\n",
    "    plt.show()\n",
    "    return found\n",
    "testlist = random.choices(range(1,100),k=30,weights=range(1,100))\n",
    "print(binarySearch(sorted(testlist), 56))"
   ]
  },
  {
   "cell_type": "markdown",
   "metadata": {},
   "source": [
    "### 二分查找分而治之"
   ]
  },
  {
   "cell_type": "code",
   "execution_count": 157,
   "metadata": {},
   "outputs": [],
   "source": [
    "def binarySearchOne(alist, item):\n",
    "    if len(alist)==0:\n",
    "        return False\n",
    "    else:\n",
    "        midpoint = len(alist) // 2  # 查找中点\n",
    "        if alist[midpoint]==item:  # 是否符合主体条件\n",
    "            return True\n",
    "        else:\n",
    "            if item < alist[midpoint]:  # 判断是否在左侧还是右侧\n",
    "                return binarySearchOne(alist[:midpoint],item)\n",
    "            else:\n",
    "                return binarySearchOne(alist[midpoint+1:],item)"
   ]
  },
  {
   "cell_type": "code",
   "execution_count": 158,
   "metadata": {},
   "outputs": [],
   "source": [
    "def binarySearchTwo(alist,item,first,last):\n",
    "    if first >= last:\n",
    "        return False\n",
    "    else:\n",
    "        midpoint = (first+last) // 2\n",
    "        if alist[midpoint] == item:\n",
    "            return True\n",
    "        else:\n",
    "            if item < alist[midpoint]:\n",
    "                return binarySearchTwo(alist, item, first, last=midpoint)\n",
    "            else:\n",
    "                first = midpoint + 1\n",
    "                return binarySearchTwo(alist, item, first, last)"
   ]
  },
  {
   "cell_type": "code",
   "execution_count": 161,
   "metadata": {},
   "outputs": [
    {
     "name": "stdout",
     "output_type": "stream",
     "text": [
      "True\n",
      "True\n",
      "0.00025770000047486974\n",
      "0.00017019999995682156\n"
     ]
    }
   ],
   "source": [
    "testlist = random.choices(range(1,10),k=6,weights=range(1,10))\n",
    "x1 = time.perf_counter()\n",
    "print(binarySearchOne(sorted(testlist), 8))\n",
    "x2 = time.perf_counter()\n",
    "print(binarySearchTwo(sorted(testlist), 8,first=0,last=len(sorted(testlist))-1))\n",
    "x3 = time.perf_counter()\n",
    "print(x2-x1)\n",
    "print(x3-x2)"
   ]
  },
  {
   "cell_type": "markdown",
   "metadata": {},
   "source": [
    "## 冒泡排序"
   ]
  },
  {
   "cell_type": "code",
   "execution_count": 3,
   "metadata": {},
   "outputs": [
    {
     "name": "stdout",
     "output_type": "stream",
     "text": [
      "Using matplotlib backend: Qt5Agg\n",
      "[14, 24, 34, 34, 37, 45, 48, 48, 49, 50, 56, 60, 72, 74, 76, 78, 82, 86, 87, 87, 88, 88, 89, 89, 91, 92, 93, 95, 95, 96]\n"
     ]
    }
   ],
   "source": [
    "%matplotlib\n",
    "def bubbleSort(alist):\n",
    "    plt.figure()\n",
    "    plt.ion()\n",
    "    for passnum in range(len(alist)-1,0,-1):  # 倒叙进行，从最后一项到第一项\n",
    "        for i in range(passnum):\n",
    "            plt.cla()\n",
    "            bar = plt.bar(x=[i for i in range(len(alist))],height=alist)\n",
    "            bar[i].set_color(\"red\")\n",
    "            bar[i+1].set_color(\"red\")\n",
    "            plt.pause(0.2)\n",
    "            if alist[i]>alist[i+1]:  # 如果前一项大于后一项，则进行交换\n",
    "                temp = alist[i]\n",
    "                alist[i] = alist[i+1]\n",
    "                alist[i+1] = temp\n",
    "                plt.cla()\n",
    "                bar = plt.bar(x=[i for i in range(len(alist))],height=alist)\n",
    "                bar[i].set_color(\"green\")\n",
    "                bar[i+1].set_color(\"green\")\n",
    "        plt.pause(0.4)\n",
    "    plt.ioff()\n",
    "    plt.show()\n",
    "testlist = random.choices(range(1,100),k=30,weights=range(1,100))\n",
    "bubbleSort(testlist)\n",
    "print(testlist)"
   ]
  },
  {
   "cell_type": "markdown",
   "metadata": {},
   "source": [
    "排序算法改进，检查是否已经排序过，今儿降低时间复杂度"
   ]
  },
  {
   "cell_type": "code",
   "execution_count": 15,
   "metadata": {},
   "outputs": [],
   "source": [
    "def sortBubbleSort(alist):\n",
    "    plt.figure()\n",
    "    exchanges = True\n",
    "    passnum = len(alist)-1\n",
    "    plt.ion()\n",
    "    while passnum > 0 and exchanges:\n",
    "        exchanges = False  # 设置exchanges为False，对alist进行检查\n",
    "        for i in range(passnum):  # 对数据进行排序\n",
    "            if alist[i] > alist[i+1]:\n",
    "                plt.cla()\n",
    "                bar = plt.bar(x=list(i for i in range(len(alist))),height=alist)\n",
    "                bar[i].set_color(\"red\")\n",
    "                bar[i+1].set_color(\"red\")\n",
    "                exchanges = True\n",
    "                temp = alist[i]\n",
    "                alist[i] = alist[i+1]\n",
    "                alist[i+1] = temp\n",
    "                plt.pause(0.3)\n",
    "        plt.cla()\n",
    "        bar = plt.bar(x=list(i for i in range(len(alist))),height=alist)\n",
    "        bar[i].set_color(\"green\")\n",
    "        bar[i+1].set_color(\"green\")\n",
    "        plt.pause(0.3)\n",
    "        passnum = passnum - 1\n",
    "    plt.ioff()\n",
    "    plt.show()\n",
    "testlist = random.choices(range(1,100),k=30,weights=range(1,100))\n",
    "sortBubbleSort(testlist)"
   ]
  },
  {
   "cell_type": "markdown",
   "metadata": {},
   "source": [
    "## 选择排序SelectionSort\n",
    "时间复杂度不变，交换次数减少"
   ]
  },
  {
   "cell_type": "code",
   "execution_count": null,
   "metadata": {},
   "outputs": [],
   "source": [
    "%matplotlib\n",
    "def selectionSort(alist):\n",
    "    plt.figure()\n",
    "    for fillslot in range(len(alist)-1,0,-1):\n",
    "        positionOfMax = 0  # 最大位置\n",
    "        for location in range(1,fillslot+1):  # 在整个列表内循环\n",
    "            plt.cla()\n",
    "            bar = plt.bar(x=list(i for i in range(len(alist))),height=alist)\n",
    "            bar[location].set_color(\"red\")\n",
    "            plt.pause(0.2)\n",
    "            if alist[location] > alist[positionOfMax]:  # 如果下一个位置大与当前位置，两个位置进行交换\n",
    "                positionOfMax = location\n",
    "        bar[positionOfMax].set_color(\"green\")\n",
    "        plt.pause(0.2)\n",
    "        # 数据交换\n",
    "        temp = alist[fillslot]\n",
    "        alist[fillslot] = alist[positionOfMax]\n",
    "        alist[positionOfMax] = temp\n",
    "        plt.cla()\n",
    "        bar = plt.bar(x=list(i for i in range(len(alist))),height=alist)\n",
    "        bar[positionOfMax].set_color(\"green\")\n",
    "        bar[fillslot].set_color(\"green\")\n",
    "        plt.pause(0.5)\n",
    "        plt.show()\n",
    "\n",
    "testlist = random.choices(range(1,100),k=30,weights=range(1,100))\n",
    "selectionSort(testlist)\n",
    "print(testlist)"
   ]
  },
  {
   "cell_type": "markdown",
   "metadata": {},
   "source": [
    "## 插入排序算法\n",
    "插入排序算法算法分析为n^2\n",
    "由于移动操作仅包含一次赋值，是交换操作的1/3，所以插入性能会好一些"
   ]
  },
  {
   "cell_type": "code",
   "execution_count": 2,
   "metadata": {},
   "outputs": [
    {
     "name": "stdout",
     "output_type": "stream",
     "text": [
      "Using matplotlib backend: Qt5Agg\n"
     ]
    }
   ],
   "source": [
    "%matplotlib\n",
    "def insertionSort(alist):\n",
    "    plt.figure()\n",
    "    for index in range(1,len(alist)):  # 对列表进行遍历\n",
    "\n",
    "        currentvalue = alist[index]  # 设置当前值\n",
    "        position = index  # 设置当前索引位置 \n",
    "        plt.cla()\n",
    "        bar= plt.bar(x=list(i for i in range(len(alist))), height=alist)\n",
    "        bar[index].set_color(\"red\")\n",
    "        plt.pause(0.2)\n",
    "        while position>0 and alist[position-1]>currentvalue:  # 当前值与带比较值进行比较，如果小于待比较值，则将当前值前移\n",
    "            alist[position] = alist[position-1]\n",
    "            plt.cla()\n",
    "            bar = plt.bar(x=list(i for i in range(len(alist))),height=alist)\n",
    "            bar[position].set_color(\"red\")\n",
    "            bar[index].set_color(\"green\")\n",
    "            plt.pause(0.2)\n",
    "            position -= 1\n",
    "\n",
    "        alist[position] = currentvalue\n",
    "        plt.pause(0.2)\n",
    "\n",
    "testlist = random.choices(range(1,100), k=30, weights=range(1,100))\n",
    "insertionSort(testlist)"
   ]
  },
  {
   "cell_type": "markdown",
   "metadata": {},
   "source": [
    "## 谢尔排序\n",
    "以插入排序为基础的排序方法，时间复杂度在n和n^2 之间，分隔空间为3份时，时间复杂度大概为n^(3/2)"
   ]
  },
  {
   "cell_type": "code",
   "execution_count": 22,
   "metadata": {},
   "outputs": [
    {
     "name": "stdout",
     "output_type": "stream",
     "text": [
      "Using matplotlib backend: Qt5Agg\n",
      "after increments of size 15 That list is [81, 49, 49, 17, 51, 62, 23, 66, 68, 41, 24, 39, 19, 73, 27, 87, 82, 59, 78, 81, 99, 99, 92, 81, 90, 82, 99, 84, 95, 77]\n",
      "after increments of size 7 That list is [27, 49, 41, 17, 39, 19, 23, 66, 68, 49, 24, 51, 62, 73, 81, 77, 81, 59, 78, 81, 84, 95, 87, 82, 90, 82, 99, 99, 99, 92]\n",
      "after increments of size 3 That list is [17, 24, 19, 23, 39, 41, 27, 49, 51, 49, 66, 59, 62, 73, 68, 77, 81, 81, 78, 81, 82, 90, 82, 84, 95, 87, 92, 99, 99, 99]\n",
      "after increments of size 1 That list is [17, 19, 23, 24, 27, 39, 41, 49, 49, 51, 59, 62, 66, 68, 73, 77, 78, 81, 81, 81, 82, 82, 84, 87, 90, 92, 95, 99, 99, 99]\n"
     ]
    }
   ],
   "source": [
    "%matplotlib\n",
    "def shellSort(alist):\n",
    "    sublistcount = len(alist) // 2  # 间隔设定\n",
    "    plt.figure()\n",
    "    while sublistcount > 0:\n",
    "        for startposition in range(sublistcount):\n",
    "            gapInsertionSort(alist, startposition, sublistcount) # 自列表排序\n",
    "        \n",
    "        print(\"after increments of size\", sublistcount, \"That list is\", alist)\n",
    "    \n",
    "        sublistcount //= 2  # 间隔缩小\n",
    "\n",
    "def gapInsertionSort(alist,start,gap):\n",
    "    for i in range(start+gap,len(alist),gap):\n",
    "        \n",
    "        currentvalue = alist[i]\n",
    "        position = i\n",
    "        plt.cla()\n",
    "        bar = plt.bar(x=list(i for i in range(len(alist))),height=alist)\n",
    "        bar[i].set_color(\"red\")\n",
    "        bar[position-gap].set_color(\"red\")\n",
    "        plt.pause(0.5)\n",
    "        while position >= gap and alist[position-gap] > currentvalue:  # \n",
    "            alist[position] = alist[position-gap]\n",
    "            position -= gap\n",
    "            plt.cla()\n",
    "            bar = plt.bar(x=list(i for i in range(len(alist))),height=alist)\n",
    "            bar[position].set_color(\"green\")\n",
    "            bar[position-gap].set_color(\"green\")\n",
    "            plt.pause(0.5)\n",
    "        alist[position] = currentvalue\n",
    "        plt.cla()\n",
    "        bar = plt.bar(x=list(i for i in range(len(alist))),height=alist)\n",
    "        bar[position].set_color(\"green\")\n",
    "\n",
    "testlist = random.choices(range(1,100), k=30, weights=range(1,100))\n",
    "shellSort(testlist)"
   ]
  },
  {
   "cell_type": "markdown",
   "metadata": {},
   "source": [
    "## 归并排序\n",
    "归并排序用递归调用进行排序，时间复杂度为nlog(n)，但使用了额外一倍空间用来排序，增加了空间复杂度"
   ]
  },
  {
   "cell_type": "code",
   "execution_count": null,
   "metadata": {},
   "outputs": [],
   "source": []
  }
 ],
 "metadata": {
  "kernelspec": {
   "display_name": "Python 3",
   "language": "python",
   "name": "python3"
  },
  "language_info": {
   "codemirror_mode": {
    "name": "ipython",
    "version": 3
   },
   "file_extension": ".py",
   "mimetype": "text/x-python",
   "name": "python",
   "nbconvert_exporter": "python",
   "pygments_lexer": "ipython3",
   "version": "3.7.5"
  }
 },
 "nbformat": 4,
 "nbformat_minor": 2
}
